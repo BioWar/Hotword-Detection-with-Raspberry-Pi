{
 "cells": [
  {
   "cell_type": "code",
   "execution_count": 1,
   "metadata": {},
   "outputs": [],
   "source": [
    "import numpy as np\n",
    "from pydub import AudioSegment\n",
    "import random\n",
    "import sys\n",
    "import io\n",
    "import os\n",
    "import glob\n",
    "import IPython\n",
    "from time import time\n",
    "\n",
    "%matplotlib inline"
   ]
  },
  {
   "cell_type": "code",
   "execution_count": 2,
   "metadata": {},
   "outputs": [],
   "source": [
    "def load_raw_audio():\n",
    "    backgrounds = []\n",
    "\n",
    "    for filename in os.listdir(\"raw_data/my_background_uncutted\"):\n",
    "        if filename.endswith(\"wav\"):\n",
    "            background = AudioSegment.from_wav(\"raw_data/my_background_uncutted/\"+filename)\n",
    "            backgrounds.append(background)\n",
    "\n",
    "    return backgrounds"
   ]
  },
  {
   "cell_type": "code",
   "execution_count": 3,
   "metadata": {},
   "outputs": [],
   "source": [
    "backgrounds = load_raw_audio()"
   ]
  },
  {
   "cell_type": "code",
   "execution_count": 4,
   "metadata": {},
   "outputs": [
    {
     "name": "stdout",
     "output_type": "stream",
     "text": [
      "4335.7135  seconds\n",
      "286.0935  seconds\n",
      "3630.3935  seconds\n",
      "300.1135  seconds\n",
      "3600.0335  seconds\n"
     ]
    }
   ],
   "source": [
    "for i in backgrounds:\n",
    "    print(i.duration_seconds, \" seconds\")"
   ]
  },
  {
   "cell_type": "code",
   "execution_count": 5,
   "metadata": {},
   "outputs": [
    {
     "name": "stdout",
     "output_type": "stream",
     "text": [
      "4335714  ms\n"
     ]
    }
   ],
   "source": [
    "print(len(backgrounds[0]), \" ms\")"
   ]
  },
  {
   "cell_type": "code",
   "execution_count": 9,
   "metadata": {},
   "outputs": [],
   "source": [
    "import random\n",
    "\n",
    "def get_selection_weigths(backgrounds):\n",
    "    sum_ = sum([len(i) for i in backgrounds])\n",
    "    weights = [len(i)/sum_ for i in backgrounds]\n",
    "    return weights\n",
    "\n",
    "def generate_background(amount, path, backgrounds):\n",
    "    segment_time = 10000\n",
    "    p = get_selection_weigths(backgrounds)\n",
    "    print(f\"[INFO] Started to generate {amount} wav files...\")\n",
    "    print(f\"[INFO] Segment length = {segment_time}, probability of seleciton = {p}...\")\n",
    "    print(\"---------------------------------------------------------------------------\")\n",
    "    for i in range(1, amount+1):\n",
    "        #file = backgrounds[np.random.randint(low=0, high=len(backgrounds))] # not weighted selection\n",
    "        #file = list(np.random.choice(backgrounds, 1, p=p))[0]  # weighted selection (not working with numpy???)\n",
    "        file = random.choices(population=backgrounds, weights=p, k=1)[0]\n",
    "        start = np.random.randint(low=0, high=len(file) - segment_time)\n",
    "        cutted = file[start:start + segment_time]\n",
    "        filename = path + str(i) +'.wav'\n",
    "        cutted = cutted.set_frame_rate(44100)\n",
    "        cutted.export(filename, format=\"wav\")\n",
    "        print(f\"[INFO] {filename} generated...\")\n",
    "    print(\"---------------------------------------------------------------------------\")\n",
    "    print(\"[INFO] Generation complete!\")"
   ]
  },
  {
   "cell_type": "code",
   "execution_count": 10,
   "metadata": {},
   "outputs": [
    {
     "name": "stdout",
     "output_type": "stream",
     "text": [
      "[INFO] Started to generate 100 wav files...\n",
      "[INFO] Segment length = 10000, probability of seleciton = [0.35677988208042066, 0.023542277831036795, 0.298740079079355, 0.024695964155081115, 0.2962417968541064]...\n",
      "---------------------------------------------------------------------------\n",
      "[INFO] /home/biowar/handson-ml2/MyFiles/raw_data/my_generated_background/1.wav generated...\n",
      "[INFO] /home/biowar/handson-ml2/MyFiles/raw_data/my_generated_background/2.wav generated...\n",
      "[INFO] /home/biowar/handson-ml2/MyFiles/raw_data/my_generated_background/3.wav generated...\n",
      "[INFO] /home/biowar/handson-ml2/MyFiles/raw_data/my_generated_background/4.wav generated...\n",
      "[INFO] /home/biowar/handson-ml2/MyFiles/raw_data/my_generated_background/5.wav generated...\n",
      "[INFO] /home/biowar/handson-ml2/MyFiles/raw_data/my_generated_background/6.wav generated...\n",
      "[INFO] /home/biowar/handson-ml2/MyFiles/raw_data/my_generated_background/7.wav generated...\n",
      "[INFO] /home/biowar/handson-ml2/MyFiles/raw_data/my_generated_background/8.wav generated...\n",
      "[INFO] /home/biowar/handson-ml2/MyFiles/raw_data/my_generated_background/9.wav generated...\n",
      "[INFO] /home/biowar/handson-ml2/MyFiles/raw_data/my_generated_background/10.wav generated...\n",
      "[INFO] /home/biowar/handson-ml2/MyFiles/raw_data/my_generated_background/11.wav generated...\n",
      "[INFO] /home/biowar/handson-ml2/MyFiles/raw_data/my_generated_background/12.wav generated...\n",
      "[INFO] /home/biowar/handson-ml2/MyFiles/raw_data/my_generated_background/13.wav generated...\n",
      "[INFO] /home/biowar/handson-ml2/MyFiles/raw_data/my_generated_background/14.wav generated...\n",
      "[INFO] /home/biowar/handson-ml2/MyFiles/raw_data/my_generated_background/15.wav generated...\n",
      "[INFO] /home/biowar/handson-ml2/MyFiles/raw_data/my_generated_background/16.wav generated...\n",
      "[INFO] /home/biowar/handson-ml2/MyFiles/raw_data/my_generated_background/17.wav generated...\n",
      "[INFO] /home/biowar/handson-ml2/MyFiles/raw_data/my_generated_background/18.wav generated...\n",
      "[INFO] /home/biowar/handson-ml2/MyFiles/raw_data/my_generated_background/19.wav generated...\n",
      "[INFO] /home/biowar/handson-ml2/MyFiles/raw_data/my_generated_background/20.wav generated...\n",
      "[INFO] /home/biowar/handson-ml2/MyFiles/raw_data/my_generated_background/21.wav generated...\n",
      "[INFO] /home/biowar/handson-ml2/MyFiles/raw_data/my_generated_background/22.wav generated...\n",
      "[INFO] /home/biowar/handson-ml2/MyFiles/raw_data/my_generated_background/23.wav generated...\n",
      "[INFO] /home/biowar/handson-ml2/MyFiles/raw_data/my_generated_background/24.wav generated...\n",
      "[INFO] /home/biowar/handson-ml2/MyFiles/raw_data/my_generated_background/25.wav generated...\n",
      "[INFO] /home/biowar/handson-ml2/MyFiles/raw_data/my_generated_background/26.wav generated...\n",
      "[INFO] /home/biowar/handson-ml2/MyFiles/raw_data/my_generated_background/27.wav generated...\n",
      "[INFO] /home/biowar/handson-ml2/MyFiles/raw_data/my_generated_background/28.wav generated...\n",
      "[INFO] /home/biowar/handson-ml2/MyFiles/raw_data/my_generated_background/29.wav generated...\n",
      "[INFO] /home/biowar/handson-ml2/MyFiles/raw_data/my_generated_background/30.wav generated...\n",
      "[INFO] /home/biowar/handson-ml2/MyFiles/raw_data/my_generated_background/31.wav generated...\n",
      "[INFO] /home/biowar/handson-ml2/MyFiles/raw_data/my_generated_background/32.wav generated...\n",
      "[INFO] /home/biowar/handson-ml2/MyFiles/raw_data/my_generated_background/33.wav generated...\n",
      "[INFO] /home/biowar/handson-ml2/MyFiles/raw_data/my_generated_background/34.wav generated...\n",
      "[INFO] /home/biowar/handson-ml2/MyFiles/raw_data/my_generated_background/35.wav generated...\n",
      "[INFO] /home/biowar/handson-ml2/MyFiles/raw_data/my_generated_background/36.wav generated...\n",
      "[INFO] /home/biowar/handson-ml2/MyFiles/raw_data/my_generated_background/37.wav generated...\n",
      "[INFO] /home/biowar/handson-ml2/MyFiles/raw_data/my_generated_background/38.wav generated...\n",
      "[INFO] /home/biowar/handson-ml2/MyFiles/raw_data/my_generated_background/39.wav generated...\n",
      "[INFO] /home/biowar/handson-ml2/MyFiles/raw_data/my_generated_background/40.wav generated...\n",
      "[INFO] /home/biowar/handson-ml2/MyFiles/raw_data/my_generated_background/41.wav generated...\n",
      "[INFO] /home/biowar/handson-ml2/MyFiles/raw_data/my_generated_background/42.wav generated...\n",
      "[INFO] /home/biowar/handson-ml2/MyFiles/raw_data/my_generated_background/43.wav generated...\n",
      "[INFO] /home/biowar/handson-ml2/MyFiles/raw_data/my_generated_background/44.wav generated...\n",
      "[INFO] /home/biowar/handson-ml2/MyFiles/raw_data/my_generated_background/45.wav generated...\n",
      "[INFO] /home/biowar/handson-ml2/MyFiles/raw_data/my_generated_background/46.wav generated...\n",
      "[INFO] /home/biowar/handson-ml2/MyFiles/raw_data/my_generated_background/47.wav generated...\n",
      "[INFO] /home/biowar/handson-ml2/MyFiles/raw_data/my_generated_background/48.wav generated...\n",
      "[INFO] /home/biowar/handson-ml2/MyFiles/raw_data/my_generated_background/49.wav generated...\n",
      "[INFO] /home/biowar/handson-ml2/MyFiles/raw_data/my_generated_background/50.wav generated...\n",
      "[INFO] /home/biowar/handson-ml2/MyFiles/raw_data/my_generated_background/51.wav generated...\n",
      "[INFO] /home/biowar/handson-ml2/MyFiles/raw_data/my_generated_background/52.wav generated...\n",
      "[INFO] /home/biowar/handson-ml2/MyFiles/raw_data/my_generated_background/53.wav generated...\n",
      "[INFO] /home/biowar/handson-ml2/MyFiles/raw_data/my_generated_background/54.wav generated...\n",
      "[INFO] /home/biowar/handson-ml2/MyFiles/raw_data/my_generated_background/55.wav generated...\n",
      "[INFO] /home/biowar/handson-ml2/MyFiles/raw_data/my_generated_background/56.wav generated...\n",
      "[INFO] /home/biowar/handson-ml2/MyFiles/raw_data/my_generated_background/57.wav generated...\n",
      "[INFO] /home/biowar/handson-ml2/MyFiles/raw_data/my_generated_background/58.wav generated...\n",
      "[INFO] /home/biowar/handson-ml2/MyFiles/raw_data/my_generated_background/59.wav generated...\n",
      "[INFO] /home/biowar/handson-ml2/MyFiles/raw_data/my_generated_background/60.wav generated...\n",
      "[INFO] /home/biowar/handson-ml2/MyFiles/raw_data/my_generated_background/61.wav generated...\n",
      "[INFO] /home/biowar/handson-ml2/MyFiles/raw_data/my_generated_background/62.wav generated...\n",
      "[INFO] /home/biowar/handson-ml2/MyFiles/raw_data/my_generated_background/63.wav generated...\n",
      "[INFO] /home/biowar/handson-ml2/MyFiles/raw_data/my_generated_background/64.wav generated...\n",
      "[INFO] /home/biowar/handson-ml2/MyFiles/raw_data/my_generated_background/65.wav generated...\n",
      "[INFO] /home/biowar/handson-ml2/MyFiles/raw_data/my_generated_background/66.wav generated...\n",
      "[INFO] /home/biowar/handson-ml2/MyFiles/raw_data/my_generated_background/67.wav generated...\n",
      "[INFO] /home/biowar/handson-ml2/MyFiles/raw_data/my_generated_background/68.wav generated...\n",
      "[INFO] /home/biowar/handson-ml2/MyFiles/raw_data/my_generated_background/69.wav generated...\n",
      "[INFO] /home/biowar/handson-ml2/MyFiles/raw_data/my_generated_background/70.wav generated...\n",
      "[INFO] /home/biowar/handson-ml2/MyFiles/raw_data/my_generated_background/71.wav generated...\n",
      "[INFO] /home/biowar/handson-ml2/MyFiles/raw_data/my_generated_background/72.wav generated...\n",
      "[INFO] /home/biowar/handson-ml2/MyFiles/raw_data/my_generated_background/73.wav generated...\n",
      "[INFO] /home/biowar/handson-ml2/MyFiles/raw_data/my_generated_background/74.wav generated...\n",
      "[INFO] /home/biowar/handson-ml2/MyFiles/raw_data/my_generated_background/75.wav generated...\n",
      "[INFO] /home/biowar/handson-ml2/MyFiles/raw_data/my_generated_background/76.wav generated...\n",
      "[INFO] /home/biowar/handson-ml2/MyFiles/raw_data/my_generated_background/77.wav generated...\n",
      "[INFO] /home/biowar/handson-ml2/MyFiles/raw_data/my_generated_background/78.wav generated...\n",
      "[INFO] /home/biowar/handson-ml2/MyFiles/raw_data/my_generated_background/79.wav generated...\n",
      "[INFO] /home/biowar/handson-ml2/MyFiles/raw_data/my_generated_background/80.wav generated...\n",
      "[INFO] /home/biowar/handson-ml2/MyFiles/raw_data/my_generated_background/81.wav generated...\n",
      "[INFO] /home/biowar/handson-ml2/MyFiles/raw_data/my_generated_background/82.wav generated...\n",
      "[INFO] /home/biowar/handson-ml2/MyFiles/raw_data/my_generated_background/83.wav generated...\n",
      "[INFO] /home/biowar/handson-ml2/MyFiles/raw_data/my_generated_background/84.wav generated...\n",
      "[INFO] /home/biowar/handson-ml2/MyFiles/raw_data/my_generated_background/85.wav generated...\n",
      "[INFO] /home/biowar/handson-ml2/MyFiles/raw_data/my_generated_background/86.wav generated...\n",
      "[INFO] /home/biowar/handson-ml2/MyFiles/raw_data/my_generated_background/87.wav generated...\n",
      "[INFO] /home/biowar/handson-ml2/MyFiles/raw_data/my_generated_background/88.wav generated...\n",
      "[INFO] /home/biowar/handson-ml2/MyFiles/raw_data/my_generated_background/89.wav generated...\n",
      "[INFO] /home/biowar/handson-ml2/MyFiles/raw_data/my_generated_background/90.wav generated...\n",
      "[INFO] /home/biowar/handson-ml2/MyFiles/raw_data/my_generated_background/91.wav generated...\n",
      "[INFO] /home/biowar/handson-ml2/MyFiles/raw_data/my_generated_background/92.wav generated...\n",
      "[INFO] /home/biowar/handson-ml2/MyFiles/raw_data/my_generated_background/93.wav generated...\n",
      "[INFO] /home/biowar/handson-ml2/MyFiles/raw_data/my_generated_background/94.wav generated...\n",
      "[INFO] /home/biowar/handson-ml2/MyFiles/raw_data/my_generated_background/95.wav generated...\n",
      "[INFO] /home/biowar/handson-ml2/MyFiles/raw_data/my_generated_background/96.wav generated...\n",
      "[INFO] /home/biowar/handson-ml2/MyFiles/raw_data/my_generated_background/97.wav generated...\n",
      "[INFO] /home/biowar/handson-ml2/MyFiles/raw_data/my_generated_background/98.wav generated...\n",
      "[INFO] /home/biowar/handson-ml2/MyFiles/raw_data/my_generated_background/99.wav generated...\n",
      "[INFO] /home/biowar/handson-ml2/MyFiles/raw_data/my_generated_background/100.wav generated...\n",
      "---------------------------------------------------------------------------\n",
      "[INFO] Generation complete!\n"
     ]
    }
   ],
   "source": [
    "save_path = \"raw_data/my_generated_background/\"\n",
    "generate_background(100, save_path, backgrounds)"
   ]
  },
  {
   "cell_type": "code",
   "execution_count": null,
   "metadata": {},
   "outputs": [],
   "source": []
  }
 ],
 "metadata": {
  "kernelspec": {
   "display_name": "Python 3",
   "language": "python",
   "name": "python3"
  },
  "language_info": {
   "codemirror_mode": {
    "name": "ipython",
    "version": 3
   },
   "file_extension": ".py",
   "mimetype": "text/x-python",
   "name": "python",
   "nbconvert_exporter": "python",
   "pygments_lexer": "ipython3",
   "version": "3.8.5"
  }
 },
 "nbformat": 4,
 "nbformat_minor": 4
}
