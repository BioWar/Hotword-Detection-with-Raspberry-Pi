{
 "cells": [
  {
   "cell_type": "code",
   "execution_count": 22,
   "metadata": {},
   "outputs": [],
   "source": [
    "import matplotlib.pyplot as plt\n",
    "import matplotlib.mlab as mlab\n",
    "from pydub import AudioSegment\n",
    "from scipy.io import wavfile\n",
    "from time import sleep\n",
    "from time import time\n",
    "import numpy as np\n",
    "import librosa.display\n",
    "import warnings\n",
    "import librosa\n",
    "import IPython\n",
    "import pyaudio\n",
    "import random\n",
    "import glob\n",
    "import sys\n",
    "import io\n",
    "import wave\n",
    "import os"
   ]
  },
  {
   "cell_type": "code",
   "execution_count": 33,
   "metadata": {},
   "outputs": [
    {
     "name": "stdout",
     "output_type": "stream",
     "text": [
      "Input Device id  4  -  HD-Audio Generic: ALC295 Analog (hw:1,0)\n",
      "Input Device id  6  -  pulse\n",
      "Input Device id  7  -  default\n"
     ]
    }
   ],
   "source": [
    "p = pyaudio.PyAudio()\n",
    "info = p.get_host_api_info_by_index(0)\n",
    "numdevices = info.get('deviceCount')\n",
    "for i in range(0, numdevices):\n",
    "        if (p.get_device_info_by_host_api_device_index(0, i).get('maxInputChannels')) > 0:\n",
    "            print(\"Input Device id \", i, \" - \", p.get_device_info_by_host_api_device_index(0, i).get('name'))"
   ]
  },
  {
   "cell_type": "code",
   "execution_count": 49,
   "metadata": {},
   "outputs": [],
   "source": [
    "def get_audio_input_stream(callback):\n",
    "    stream = pyaudio.PyAudio().open(\n",
    "        format=pyaudio.paFloat32,\n",
    "        channels=1,\n",
    "        rate=fs,\n",
    "        input=True,\n",
    "        frames_per_buffer=chunk_samples)\n",
    "    return stream"
   ]
  },
  {
   "cell_type": "code",
   "execution_count": 188,
   "metadata": {},
   "outputs": [],
   "source": [
    "def record(output_path, length, rate):\n",
    "    audio = pyaudio.PyAudio()\n",
    "    audio_format = pyaudio.paInt16\n",
    "    # start Recording\n",
    "    stream = audio.open(format=audio_format,\n",
    "                        channels=1,\n",
    "                        rate=rate, \n",
    "                        input=True,\n",
    "                        frames_per_buffer=1024)\n",
    "\n",
    "    print(\"[INFO] Recording started!\")\n",
    "    input_audio = stream.read(length * rate)\n",
    "    \n",
    "    stream.stop_stream()\n",
    "    stream.close()\n",
    "    audio.terminate()\n",
    "    \n",
    "    existing_files = []\n",
    "    max_idx = 0\n",
    "    for filename in os.listdir(output_path):\n",
    "        if filename.endswith(\"wav\"):\n",
    "            existing_files.append(filename)\n",
    "            if max_idx < int(filename[:-4]):\n",
    "                max_idx = int(filename[:-4])\n",
    "    print(f\"[INFO] Last file in {output_path} is {max_idx}.wav\")\n",
    "    \n",
    "    output_filename = f\"{output_path}/{max_idx+1}.wav\"\n",
    "    wav_file = wave.open(output_filename, 'wb')\n",
    "\n",
    "    # define audio stream properties\n",
    "    wav_file.setnchannels(1)        # number of channels\n",
    "    wav_file.setsampwidth(2)        # sample width in bytes\n",
    "    wav_file.setframerate(rate)    # sampling rate in Hz\n",
    "\n",
    "    # write samples to the file\n",
    "    wav_file.writeframes(input_audio)\n",
    "    wav_file.close()\n",
    "    print(f\"[INFO] File recorded and saved to {output_filename}.wav\")\n",
    "    return filename"
   ]
  },
  {
   "cell_type": "code",
   "execution_count": 230,
   "metadata": {},
   "outputs": [
    {
     "name": "stdout",
     "output_type": "stream",
     "text": [
      "[INFO] Recording started!\n",
      "[INFO] Last file in /home/biowar/handson-ml2/MyFiles/raw_data/COMBINED_NEGATIVES is 199.wav\n",
      "[INFO] File recorded and saved to /home/biowar/handson-ml2/MyFiles/raw_data/COMBINED_NEGATIVES/200.wav.wav\n"
     ]
    }
   ],
   "source": [
    "output_path = \"raw_data/COMBINED_NEGATIVES\"\n",
    "filename = record(output_path, 1, 44100)"
   ]
  },
  {
   "cell_type": "code",
   "execution_count": null,
   "metadata": {},
   "outputs": [],
   "source": []
  }
 ],
 "metadata": {
  "kernelspec": {
   "display_name": "Python 3",
   "language": "python",
   "name": "python3"
  },
  "language_info": {
   "codemirror_mode": {
    "name": "ipython",
    "version": 3
   },
   "file_extension": ".py",
   "mimetype": "text/x-python",
   "name": "python",
   "nbconvert_exporter": "python",
   "pygments_lexer": "ipython3",
   "version": "3.8.5"
  }
 },
 "nbformat": 4,
 "nbformat_minor": 4
}
